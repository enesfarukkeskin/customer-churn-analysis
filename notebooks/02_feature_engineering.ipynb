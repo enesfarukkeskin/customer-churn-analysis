{
 "cells": [
  {
   "cell_type": "code",
   "execution_count": 2,
   "metadata": {},
   "outputs": [],
   "source": [
    "import sys\n",
    "import os\n",
    "sys.path.append(os.path.abspath('..'))\n",
    "\n",
    "from src.features.features_builder import FeatureBuilder\n",
    "import pandas as pd"
   ]
  },
  {
   "cell_type": "code",
   "execution_count": 5,
   "metadata": {},
   "outputs": [],
   "source": [
    "input_data = pd.read_csv(\"/Users/enes/Downloads/teknasyon-case-ai-datascientist/challenge/Customer Churn Analysis/data/processed/churn_train_processed.csv\")"
   ]
  },
  {
   "cell_type": "code",
   "execution_count": 7,
   "metadata": {},
   "outputs": [
    {
     "name": "stderr",
     "output_type": "stream",
     "text": [
      "INFO:src.features.features_builder:Starting feature engineering pipeline\n",
      "INFO:src.features.features_builder:Creating ratio features\n",
      "INFO:src.features.features_builder:Creating usage pattern features\n",
      "INFO:src.features.features_builder:Creating customer value features\n",
      "INFO:src.features.features_builder:Creating interaction features\n",
      "INFO:src.features.features_builder:Feature engineering completed successfully\n"
     ]
    }
   ],
   "source": [
    "feature_builder = FeatureBuilder(input_data)\n",
    "engineered_data = feature_builder.build_features()\n",
    "engineered_data.to_csv('/Users/enes/Downloads/teknasyon-case-ai-datascientist/challenge/Customer Churn Analysis/data/processed/churn_train_engineered.csv', index=False)"
   ]
  },
  {
   "cell_type": "code",
   "execution_count": null,
   "metadata": {},
   "outputs": [],
   "source": []
  },
  {
   "cell_type": "code",
   "execution_count": null,
   "metadata": {},
   "outputs": [],
   "source": []
  }
 ],
 "metadata": {
  "kernelspec": {
   "display_name": "sms-span",
   "language": "python",
   "name": "python3"
  },
  "language_info": {
   "codemirror_mode": {
    "name": "ipython",
    "version": 3
   },
   "file_extension": ".py",
   "mimetype": "text/x-python",
   "name": "python",
   "nbconvert_exporter": "python",
   "pygments_lexer": "ipython3",
   "version": "3.10.16"
  }
 },
 "nbformat": 4,
 "nbformat_minor": 2
}
